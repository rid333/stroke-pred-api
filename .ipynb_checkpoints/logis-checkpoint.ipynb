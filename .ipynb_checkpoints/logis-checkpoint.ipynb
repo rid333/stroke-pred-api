{
 "cells": [
  {
   "cell_type": "code",
   "execution_count": 65,
   "id": "1feffc63-b1e8-4a49-a003-693e95264b75",
   "metadata": {},
   "outputs": [],
   "source": [
    "import numpy as np\n",
    "import pandas as pd\n",
    "from sklearn.preprocessing import LabelEncoder, StandardScaler\n",
    "import matplotlib.pyplot as plt\n",
    "from imblearn.over_sampling import SMOTE\n",
    "from sklearn.model_selection import train_test_split\n",
    "from sklearn.linear_model import LogisticRegression\n",
    "from sklearn.metrics import accuracy_score, log_loss, precision_score, recall_score, f1_score, confusion_matrix, classification_report\n",
    "from xgboost import XGBClassifier"
   ]
  },
  {
   "cell_type": "code",
   "execution_count": 91,
   "id": "fc5ad1c4-236e-4830-94f4-47382035742d",
   "metadata": {},
   "outputs": [],
   "source": [
    "data = pd.read_csv('puskesmas.csv')\n",
    "data[['Tekanan Sistolik', 'Tekanan Diastolik']] = data['Tekanan Darah'].str.split('/', expand=True)\n",
    "data['Tekanan Sistolik'] = data['Tekanan Sistolik'].astype(int)\n",
    "data['Tekanan Diastolik'] = data['Tekanan Diastolik'].astype(int)"
   ]
  },
  {
   "cell_type": "code",
   "execution_count": 92,
   "id": "af6aff69-ceaa-4932-87dc-5db3aedcd984",
   "metadata": {},
   "outputs": [
    {
     "data": {
      "text/html": [
       "<div>\n",
       "<style scoped>\n",
       "    .dataframe tbody tr th:only-of-type {\n",
       "        vertical-align: middle;\n",
       "    }\n",
       "\n",
       "    .dataframe tbody tr th {\n",
       "        vertical-align: top;\n",
       "    }\n",
       "\n",
       "    .dataframe thead th {\n",
       "        text-align: right;\n",
       "    }\n",
       "</style>\n",
       "<table border=\"1\" class=\"dataframe\">\n",
       "  <thead>\n",
       "    <tr style=\"text-align: right;\">\n",
       "      <th></th>\n",
       "      <th>No.</th>\n",
       "      <th>Jenis Kelamin</th>\n",
       "      <th>Usia</th>\n",
       "      <th>Riwayat Hipertensi</th>\n",
       "      <th>Riwayat Penyakit Jantung</th>\n",
       "      <th>Sudah Menikah</th>\n",
       "      <th>Berat Badan</th>\n",
       "      <th>Riwayat Stroke</th>\n",
       "      <th>Riwayat merokok</th>\n",
       "      <th>Tekanan Darah</th>\n",
       "      <th>Detak Jantung</th>\n",
       "      <th>Saturasi Oksigen</th>\n",
       "      <th>Suhu Tubuh</th>\n",
       "      <th>Tekanan Sistolik</th>\n",
       "      <th>Tekanan Diastolik</th>\n",
       "    </tr>\n",
       "  </thead>\n",
       "  <tbody>\n",
       "    <tr>\n",
       "      <th>0</th>\n",
       "      <td>1</td>\n",
       "      <td>Perempuan</td>\n",
       "      <td>70</td>\n",
       "      <td>ya</td>\n",
       "      <td>tidak</td>\n",
       "      <td>ya</td>\n",
       "      <td>52</td>\n",
       "      <td>ya</td>\n",
       "      <td>tidak</td>\n",
       "      <td>209/118</td>\n",
       "      <td>82</td>\n",
       "      <td>97</td>\n",
       "      <td>36.0</td>\n",
       "      <td>209</td>\n",
       "      <td>118</td>\n",
       "    </tr>\n",
       "    <tr>\n",
       "      <th>1</th>\n",
       "      <td>2</td>\n",
       "      <td>Perempuan</td>\n",
       "      <td>82</td>\n",
       "      <td>ya</td>\n",
       "      <td>tidak</td>\n",
       "      <td>ya</td>\n",
       "      <td>48</td>\n",
       "      <td>ya</td>\n",
       "      <td>tidak</td>\n",
       "      <td>202/112</td>\n",
       "      <td>75</td>\n",
       "      <td>95</td>\n",
       "      <td>36.5</td>\n",
       "      <td>202</td>\n",
       "      <td>112</td>\n",
       "    </tr>\n",
       "    <tr>\n",
       "      <th>2</th>\n",
       "      <td>3</td>\n",
       "      <td>Perempuan</td>\n",
       "      <td>51</td>\n",
       "      <td>ya</td>\n",
       "      <td>tidak</td>\n",
       "      <td>ya</td>\n",
       "      <td>52</td>\n",
       "      <td>tidak</td>\n",
       "      <td>tidak</td>\n",
       "      <td>144/90</td>\n",
       "      <td>103</td>\n",
       "      <td>98</td>\n",
       "      <td>36.3</td>\n",
       "      <td>144</td>\n",
       "      <td>90</td>\n",
       "    </tr>\n",
       "    <tr>\n",
       "      <th>3</th>\n",
       "      <td>4</td>\n",
       "      <td>Perempuan</td>\n",
       "      <td>56</td>\n",
       "      <td>ya</td>\n",
       "      <td>tidak</td>\n",
       "      <td>ya</td>\n",
       "      <td>52</td>\n",
       "      <td>tidak</td>\n",
       "      <td>tidak</td>\n",
       "      <td>157/98</td>\n",
       "      <td>65</td>\n",
       "      <td>98</td>\n",
       "      <td>36.3</td>\n",
       "      <td>157</td>\n",
       "      <td>98</td>\n",
       "    </tr>\n",
       "    <tr>\n",
       "      <th>4</th>\n",
       "      <td>5</td>\n",
       "      <td>Perempuan</td>\n",
       "      <td>61</td>\n",
       "      <td>ya</td>\n",
       "      <td>tidak</td>\n",
       "      <td>ya</td>\n",
       "      <td>48</td>\n",
       "      <td>tidak</td>\n",
       "      <td>tidak</td>\n",
       "      <td>162/79</td>\n",
       "      <td>110</td>\n",
       "      <td>97</td>\n",
       "      <td>36.2</td>\n",
       "      <td>162</td>\n",
       "      <td>79</td>\n",
       "    </tr>\n",
       "  </tbody>\n",
       "</table>\n",
       "</div>"
      ],
      "text/plain": [
       "   No. Jenis Kelamin  Usia Riwayat Hipertensi Riwayat Penyakit Jantung  \\\n",
       "0    1     Perempuan    70                 ya                    tidak   \n",
       "1    2     Perempuan    82                 ya                    tidak   \n",
       "2    3     Perempuan    51                 ya                    tidak   \n",
       "3    4     Perempuan    56                 ya                    tidak   \n",
       "4    5     Perempuan    61                 ya                    tidak   \n",
       "\n",
       "  Sudah Menikah  Berat Badan Riwayat Stroke Riwayat merokok Tekanan Darah  \\\n",
       "0            ya           52             ya           tidak       209/118   \n",
       "1            ya           48             ya           tidak       202/112   \n",
       "2            ya           52          tidak           tidak        144/90   \n",
       "3            ya           52          tidak           tidak        157/98   \n",
       "4            ya           48          tidak           tidak        162/79   \n",
       "\n",
       "   Detak Jantung  Saturasi Oksigen  Suhu Tubuh  Tekanan Sistolik  \\\n",
       "0             82                97        36.0               209   \n",
       "1             75                95        36.5               202   \n",
       "2            103                98        36.3               144   \n",
       "3             65                98        36.3               157   \n",
       "4            110                97        36.2               162   \n",
       "\n",
       "   Tekanan Diastolik  \n",
       "0                118  \n",
       "1                112  \n",
       "2                 90  \n",
       "3                 98  \n",
       "4                 79  "
      ]
     },
     "execution_count": 92,
     "metadata": {},
     "output_type": "execute_result"
    }
   ],
   "source": [
    "data.head()"
   ]
  },
  {
   "cell_type": "code",
   "execution_count": 93,
   "id": "6f801de2-5a11-4a61-946b-bcabe679fc63",
   "metadata": {},
   "outputs": [],
   "source": [
    "data = data.drop(columns=['Tekanan Darah'])"
   ]
  },
  {
   "cell_type": "code",
   "execution_count": 94,
   "id": "aa488289-35c7-4c7f-ae1f-c279d472ab6b",
   "metadata": {},
   "outputs": [
    {
     "data": {
      "text/html": [
       "<div>\n",
       "<style scoped>\n",
       "    .dataframe tbody tr th:only-of-type {\n",
       "        vertical-align: middle;\n",
       "    }\n",
       "\n",
       "    .dataframe tbody tr th {\n",
       "        vertical-align: top;\n",
       "    }\n",
       "\n",
       "    .dataframe thead th {\n",
       "        text-align: right;\n",
       "    }\n",
       "</style>\n",
       "<table border=\"1\" class=\"dataframe\">\n",
       "  <thead>\n",
       "    <tr style=\"text-align: right;\">\n",
       "      <th></th>\n",
       "      <th>No.</th>\n",
       "      <th>Jenis Kelamin</th>\n",
       "      <th>Usia</th>\n",
       "      <th>Riwayat Hipertensi</th>\n",
       "      <th>Riwayat Penyakit Jantung</th>\n",
       "      <th>Sudah Menikah</th>\n",
       "      <th>Berat Badan</th>\n",
       "      <th>Riwayat Stroke</th>\n",
       "      <th>Riwayat merokok</th>\n",
       "      <th>Detak Jantung</th>\n",
       "      <th>Saturasi Oksigen</th>\n",
       "      <th>Suhu Tubuh</th>\n",
       "      <th>Tekanan Sistolik</th>\n",
       "      <th>Tekanan Diastolik</th>\n",
       "    </tr>\n",
       "  </thead>\n",
       "  <tbody>\n",
       "    <tr>\n",
       "      <th>0</th>\n",
       "      <td>1</td>\n",
       "      <td>Perempuan</td>\n",
       "      <td>70</td>\n",
       "      <td>ya</td>\n",
       "      <td>tidak</td>\n",
       "      <td>ya</td>\n",
       "      <td>52</td>\n",
       "      <td>ya</td>\n",
       "      <td>tidak</td>\n",
       "      <td>82</td>\n",
       "      <td>97</td>\n",
       "      <td>36.0</td>\n",
       "      <td>209</td>\n",
       "      <td>118</td>\n",
       "    </tr>\n",
       "    <tr>\n",
       "      <th>1</th>\n",
       "      <td>2</td>\n",
       "      <td>Perempuan</td>\n",
       "      <td>82</td>\n",
       "      <td>ya</td>\n",
       "      <td>tidak</td>\n",
       "      <td>ya</td>\n",
       "      <td>48</td>\n",
       "      <td>ya</td>\n",
       "      <td>tidak</td>\n",
       "      <td>75</td>\n",
       "      <td>95</td>\n",
       "      <td>36.5</td>\n",
       "      <td>202</td>\n",
       "      <td>112</td>\n",
       "    </tr>\n",
       "    <tr>\n",
       "      <th>2</th>\n",
       "      <td>3</td>\n",
       "      <td>Perempuan</td>\n",
       "      <td>51</td>\n",
       "      <td>ya</td>\n",
       "      <td>tidak</td>\n",
       "      <td>ya</td>\n",
       "      <td>52</td>\n",
       "      <td>tidak</td>\n",
       "      <td>tidak</td>\n",
       "      <td>103</td>\n",
       "      <td>98</td>\n",
       "      <td>36.3</td>\n",
       "      <td>144</td>\n",
       "      <td>90</td>\n",
       "    </tr>\n",
       "    <tr>\n",
       "      <th>3</th>\n",
       "      <td>4</td>\n",
       "      <td>Perempuan</td>\n",
       "      <td>56</td>\n",
       "      <td>ya</td>\n",
       "      <td>tidak</td>\n",
       "      <td>ya</td>\n",
       "      <td>52</td>\n",
       "      <td>tidak</td>\n",
       "      <td>tidak</td>\n",
       "      <td>65</td>\n",
       "      <td>98</td>\n",
       "      <td>36.3</td>\n",
       "      <td>157</td>\n",
       "      <td>98</td>\n",
       "    </tr>\n",
       "    <tr>\n",
       "      <th>4</th>\n",
       "      <td>5</td>\n",
       "      <td>Perempuan</td>\n",
       "      <td>61</td>\n",
       "      <td>ya</td>\n",
       "      <td>tidak</td>\n",
       "      <td>ya</td>\n",
       "      <td>48</td>\n",
       "      <td>tidak</td>\n",
       "      <td>tidak</td>\n",
       "      <td>110</td>\n",
       "      <td>97</td>\n",
       "      <td>36.2</td>\n",
       "      <td>162</td>\n",
       "      <td>79</td>\n",
       "    </tr>\n",
       "  </tbody>\n",
       "</table>\n",
       "</div>"
      ],
      "text/plain": [
       "   No. Jenis Kelamin  Usia Riwayat Hipertensi Riwayat Penyakit Jantung  \\\n",
       "0    1     Perempuan    70                 ya                    tidak   \n",
       "1    2     Perempuan    82                 ya                    tidak   \n",
       "2    3     Perempuan    51                 ya                    tidak   \n",
       "3    4     Perempuan    56                 ya                    tidak   \n",
       "4    5     Perempuan    61                 ya                    tidak   \n",
       "\n",
       "  Sudah Menikah  Berat Badan Riwayat Stroke Riwayat merokok  Detak Jantung  \\\n",
       "0            ya           52             ya           tidak             82   \n",
       "1            ya           48             ya           tidak             75   \n",
       "2            ya           52          tidak           tidak            103   \n",
       "3            ya           52          tidak           tidak             65   \n",
       "4            ya           48          tidak           tidak            110   \n",
       "\n",
       "   Saturasi Oksigen  Suhu Tubuh  Tekanan Sistolik  Tekanan Diastolik  \n",
       "0                97        36.0               209                118  \n",
       "1                95        36.5               202                112  \n",
       "2                98        36.3               144                 90  \n",
       "3                98        36.3               157                 98  \n",
       "4                97        36.2               162                 79  "
      ]
     },
     "execution_count": 94,
     "metadata": {},
     "output_type": "execute_result"
    }
   ],
   "source": [
    "data.head()"
   ]
  },
  {
   "cell_type": "code",
   "execution_count": 95,
   "id": "e27439ef-81dd-40b8-8fc7-a058e55719b7",
   "metadata": {},
   "outputs": [],
   "source": [
    "kategori_columns = ['Jenis Kelamin', 'Riwayat Hipertensi', 'Riwayat Penyakit Jantung', \n",
    "                    'Sudah Menikah', 'Riwayat Stroke', 'Riwayat merokok']\n",
    "for col in data.columns:\n",
    "    if col not in kategori_columns:\n",
    "        data[col] = pd.to_numeric(data[col], errors='coerce')"
   ]
  },
  {
   "cell_type": "code",
   "execution_count": 96,
   "id": "0c723133-77e3-4e54-af1b-9fb857805c4b",
   "metadata": {},
   "outputs": [
    {
     "data": {
      "text/plain": [
       "No.                           int64\n",
       "Jenis Kelamin                object\n",
       "Usia                          int64\n",
       "Riwayat Hipertensi           object\n",
       "Riwayat Penyakit Jantung     object\n",
       "Sudah Menikah                object\n",
       "Berat Badan                   int64\n",
       "Riwayat Stroke               object\n",
       "Riwayat merokok              object\n",
       "Detak Jantung                 int64\n",
       "Saturasi Oksigen              int64\n",
       "Suhu Tubuh                  float64\n",
       "Tekanan Sistolik              int64\n",
       "Tekanan Diastolik             int64\n",
       "dtype: object"
      ]
     },
     "execution_count": 96,
     "metadata": {},
     "output_type": "execute_result"
    }
   ],
   "source": [
    "data.dtypes"
   ]
  },
  {
   "cell_type": "code",
   "execution_count": 97,
   "id": "bafbc9e2-afab-48a1-be42-252dc9371d5b",
   "metadata": {},
   "outputs": [
    {
     "name": "stdout",
     "output_type": "stream",
     "text": [
      "Unique 'Jenis Kelamin': ['Perempuan' 'Laki-laki']\n",
      "Unique 'Riwayat Hipertensi': ['ya' 'tidak']\n",
      "Unique 'Riwayat Penyakit Jantung': ['tidak' 'ya']\n",
      "Unique 'Sudah Menikah': ['ya' 'tidak']\n",
      "Unique 'Reiwayat Stroke': ['ya' 'tidak']\n",
      "Unique 'Reiwayat Merokok': ['tidak' 'ya']\n"
     ]
    }
   ],
   "source": [
    "print(\"Unique 'Jenis Kelamin': {}\".format(data['Jenis Kelamin'].unique()))\n",
    "print(\"Unique 'Riwayat Hipertensi': {}\".format(data['Riwayat Hipertensi'].unique()))\n",
    "print(\"Unique 'Riwayat Penyakit Jantung': {}\".format(data['Riwayat Penyakit Jantung'].unique()))\n",
    "print(\"Unique 'Sudah Menikah': {}\".format(data['Sudah Menikah'].unique()))\n",
    "print(\"Unique 'Reiwayat Stroke': {}\".format(data['Riwayat Stroke'].unique()))\n",
    "print(\"Unique 'Reiwayat Merokok': {}\".format(data['Riwayat merokok'].unique()))"
   ]
  },
  {
   "cell_type": "code",
   "execution_count": 98,
   "id": "1fc2a5f4-403e-4240-ae8e-8897de446916",
   "metadata": {
    "scrolled": true
   },
   "outputs": [
    {
     "name": "stderr",
     "output_type": "stream",
     "text": [
      "/tmp/ipykernel_10205/2592194176.py:1: FutureWarning: Downcasting behavior in `replace` is deprecated and will be removed in a future version. To retain the old behavior, explicitly call `result.infer_objects(copy=False)`. To opt-in to the future behavior, set `pd.set_option('future.no_silent_downcasting', True)`\n",
      "  data['Jenis Kelamin'] = data['Jenis Kelamin'].replace({'Laki-laki':0,'Perempuan':1}).astype(np.uint8)\n",
      "/tmp/ipykernel_10205/2592194176.py:2: FutureWarning: Downcasting behavior in `replace` is deprecated and will be removed in a future version. To retain the old behavior, explicitly call `result.infer_objects(copy=False)`. To opt-in to the future behavior, set `pd.set_option('future.no_silent_downcasting', True)`\n",
      "  data['Riwayat Hipertensi'] = data['Riwayat Hipertensi'].replace({'tidak':0,'ya':1}).astype(np.uint8)\n",
      "/tmp/ipykernel_10205/2592194176.py:3: FutureWarning: Downcasting behavior in `replace` is deprecated and will be removed in a future version. To retain the old behavior, explicitly call `result.infer_objects(copy=False)`. To opt-in to the future behavior, set `pd.set_option('future.no_silent_downcasting', True)`\n",
      "  data['Riwayat Penyakit Jantung'] = data['Riwayat Penyakit Jantung'].replace({'tidak':0,'ya':1}).astype(np.uint8)\n",
      "/tmp/ipykernel_10205/2592194176.py:4: FutureWarning: Downcasting behavior in `replace` is deprecated and will be removed in a future version. To retain the old behavior, explicitly call `result.infer_objects(copy=False)`. To opt-in to the future behavior, set `pd.set_option('future.no_silent_downcasting', True)`\n",
      "  data['Sudah Menikah'] = data['Sudah Menikah'].replace({'tidak':0,'ya':1}).astype(np.uint8)\n",
      "/tmp/ipykernel_10205/2592194176.py:5: FutureWarning: Downcasting behavior in `replace` is deprecated and will be removed in a future version. To retain the old behavior, explicitly call `result.infer_objects(copy=False)`. To opt-in to the future behavior, set `pd.set_option('future.no_silent_downcasting', True)`\n",
      "  data['Riwayat Stroke'] = data['Riwayat Stroke'].replace({'tidak':0,'ya':1}).astype(np.uint8)\n",
      "/tmp/ipykernel_10205/2592194176.py:6: FutureWarning: Downcasting behavior in `replace` is deprecated and will be removed in a future version. To retain the old behavior, explicitly call `result.infer_objects(copy=False)`. To opt-in to the future behavior, set `pd.set_option('future.no_silent_downcasting', True)`\n",
      "  data['Riwayat merokok'] = data['Riwayat merokok'].replace({'tidak':0,'ya':1}).astype(np.uint8)\n"
     ]
    }
   ],
   "source": [
    "data['Jenis Kelamin'] = data['Jenis Kelamin'].replace({'Laki-laki':0,'Perempuan':1}).astype(np.uint8)\n",
    "data['Riwayat Hipertensi'] = data['Riwayat Hipertensi'].replace({'tidak':0,'ya':1}).astype(np.uint8)\n",
    "data['Riwayat Penyakit Jantung'] = data['Riwayat Penyakit Jantung'].replace({'tidak':0,'ya':1}).astype(np.uint8)\n",
    "data['Sudah Menikah'] = data['Sudah Menikah'].replace({'tidak':0,'ya':1}).astype(np.uint8)\n",
    "data['Riwayat Stroke'] = data['Riwayat Stroke'].replace({'tidak':0,'ya':1}).astype(np.uint8)\n",
    "data['Riwayat merokok'] = data['Riwayat merokok'].replace({'tidak':0,'ya':1}).astype(np.uint8)"
   ]
  },
  {
   "cell_type": "code",
   "execution_count": 99,
   "id": "93710aca-8113-4e18-a179-a2d4254932ce",
   "metadata": {},
   "outputs": [
    {
     "name": "stdout",
     "output_type": "stream",
     "text": [
      "Unique 'Jenis Kelamin': [1 0]\n",
      "Unique 'Riwayat Hipertensi': [1 0]\n",
      "Unique 'Riwayat Penyakit Jantung': [0 1]\n",
      "Unique 'Sudah Menikah': [1 0]\n",
      "Unique 'Reiwayat Stroke': [1 0]\n",
      "Unique 'Reiwayat Merokok': [0 1]\n"
     ]
    }
   ],
   "source": [
    "print(\"Unique 'Jenis Kelamin': {}\".format(data['Jenis Kelamin'].unique()))\n",
    "print(\"Unique 'Riwayat Hipertensi': {}\".format(data['Riwayat Hipertensi'].unique()))\n",
    "print(\"Unique 'Riwayat Penyakit Jantung': {}\".format(data['Riwayat Penyakit Jantung'].unique()))\n",
    "print(\"Unique 'Sudah Menikah': {}\".format(data['Sudah Menikah'].unique()))\n",
    "print(\"Unique 'Reiwayat Stroke': {}\".format(data['Riwayat Stroke'].unique()))\n",
    "print(\"Unique 'Reiwayat Merokok': {}\".format(data['Riwayat merokok'].unique()))"
   ]
  },
  {
   "cell_type": "code",
   "execution_count": 100,
   "id": "1784ac61-7026-41b4-9a1c-4ae5026116bf",
   "metadata": {},
   "outputs": [
    {
     "data": {
      "text/html": [
       "<div>\n",
       "<style scoped>\n",
       "    .dataframe tbody tr th:only-of-type {\n",
       "        vertical-align: middle;\n",
       "    }\n",
       "\n",
       "    .dataframe tbody tr th {\n",
       "        vertical-align: top;\n",
       "    }\n",
       "\n",
       "    .dataframe thead th {\n",
       "        text-align: right;\n",
       "    }\n",
       "</style>\n",
       "<table border=\"1\" class=\"dataframe\">\n",
       "  <thead>\n",
       "    <tr style=\"text-align: right;\">\n",
       "      <th></th>\n",
       "      <th>No.</th>\n",
       "      <th>Jenis Kelamin</th>\n",
       "      <th>Usia</th>\n",
       "      <th>Riwayat Hipertensi</th>\n",
       "      <th>Riwayat Penyakit Jantung</th>\n",
       "      <th>Sudah Menikah</th>\n",
       "      <th>Berat Badan</th>\n",
       "      <th>Riwayat Stroke</th>\n",
       "      <th>Riwayat merokok</th>\n",
       "      <th>Detak Jantung</th>\n",
       "      <th>Saturasi Oksigen</th>\n",
       "      <th>Suhu Tubuh</th>\n",
       "      <th>Tekanan Sistolik</th>\n",
       "      <th>Tekanan Diastolik</th>\n",
       "    </tr>\n",
       "  </thead>\n",
       "  <tbody>\n",
       "    <tr>\n",
       "      <th>0</th>\n",
       "      <td>1</td>\n",
       "      <td>1</td>\n",
       "      <td>70</td>\n",
       "      <td>1</td>\n",
       "      <td>0</td>\n",
       "      <td>1</td>\n",
       "      <td>52</td>\n",
       "      <td>1</td>\n",
       "      <td>0</td>\n",
       "      <td>82</td>\n",
       "      <td>97</td>\n",
       "      <td>36.0</td>\n",
       "      <td>209</td>\n",
       "      <td>118</td>\n",
       "    </tr>\n",
       "    <tr>\n",
       "      <th>1</th>\n",
       "      <td>2</td>\n",
       "      <td>1</td>\n",
       "      <td>82</td>\n",
       "      <td>1</td>\n",
       "      <td>0</td>\n",
       "      <td>1</td>\n",
       "      <td>48</td>\n",
       "      <td>1</td>\n",
       "      <td>0</td>\n",
       "      <td>75</td>\n",
       "      <td>95</td>\n",
       "      <td>36.5</td>\n",
       "      <td>202</td>\n",
       "      <td>112</td>\n",
       "    </tr>\n",
       "    <tr>\n",
       "      <th>2</th>\n",
       "      <td>3</td>\n",
       "      <td>1</td>\n",
       "      <td>51</td>\n",
       "      <td>1</td>\n",
       "      <td>0</td>\n",
       "      <td>1</td>\n",
       "      <td>52</td>\n",
       "      <td>0</td>\n",
       "      <td>0</td>\n",
       "      <td>103</td>\n",
       "      <td>98</td>\n",
       "      <td>36.3</td>\n",
       "      <td>144</td>\n",
       "      <td>90</td>\n",
       "    </tr>\n",
       "    <tr>\n",
       "      <th>3</th>\n",
       "      <td>4</td>\n",
       "      <td>1</td>\n",
       "      <td>56</td>\n",
       "      <td>1</td>\n",
       "      <td>0</td>\n",
       "      <td>1</td>\n",
       "      <td>52</td>\n",
       "      <td>0</td>\n",
       "      <td>0</td>\n",
       "      <td>65</td>\n",
       "      <td>98</td>\n",
       "      <td>36.3</td>\n",
       "      <td>157</td>\n",
       "      <td>98</td>\n",
       "    </tr>\n",
       "    <tr>\n",
       "      <th>4</th>\n",
       "      <td>5</td>\n",
       "      <td>1</td>\n",
       "      <td>61</td>\n",
       "      <td>1</td>\n",
       "      <td>0</td>\n",
       "      <td>1</td>\n",
       "      <td>48</td>\n",
       "      <td>0</td>\n",
       "      <td>0</td>\n",
       "      <td>110</td>\n",
       "      <td>97</td>\n",
       "      <td>36.2</td>\n",
       "      <td>162</td>\n",
       "      <td>79</td>\n",
       "    </tr>\n",
       "  </tbody>\n",
       "</table>\n",
       "</div>"
      ],
      "text/plain": [
       "   No.  Jenis Kelamin  Usia  Riwayat Hipertensi  Riwayat Penyakit Jantung  \\\n",
       "0    1              1    70                   1                         0   \n",
       "1    2              1    82                   1                         0   \n",
       "2    3              1    51                   1                         0   \n",
       "3    4              1    56                   1                         0   \n",
       "4    5              1    61                   1                         0   \n",
       "\n",
       "   Sudah Menikah  Berat Badan  Riwayat Stroke  Riwayat merokok  Detak Jantung  \\\n",
       "0              1           52               1                0             82   \n",
       "1              1           48               1                0             75   \n",
       "2              1           52               0                0            103   \n",
       "3              1           52               0                0             65   \n",
       "4              1           48               0                0            110   \n",
       "\n",
       "   Saturasi Oksigen  Suhu Tubuh  Tekanan Sistolik  Tekanan Diastolik  \n",
       "0                97        36.0               209                118  \n",
       "1                95        36.5               202                112  \n",
       "2                98        36.3               144                 90  \n",
       "3                98        36.3               157                 98  \n",
       "4                97        36.2               162                 79  "
      ]
     },
     "execution_count": 100,
     "metadata": {},
     "output_type": "execute_result"
    }
   ],
   "source": [
    "data.head()"
   ]
  },
  {
   "cell_type": "code",
   "execution_count": 101,
   "id": "9ffd7cc1-2172-4d26-aded-d9d7f48d0bf0",
   "metadata": {},
   "outputs": [
    {
     "data": {
      "text/plain": [
       "Riwayat Stroke\n",
       "0    183\n",
       "1     17\n",
       "Name: count, dtype: int64"
      ]
     },
     "execution_count": 101,
     "metadata": {},
     "output_type": "execute_result"
    }
   ],
   "source": [
    "data['Riwayat Stroke'].value_counts()"
   ]
  },
  {
   "cell_type": "code",
   "execution_count": 102,
   "id": "f2026035-aebe-4e13-be93-c20c4cd8ea25",
   "metadata": {},
   "outputs": [
    {
     "data": {
      "image/png": "[encoded data removed]",
      "text/plain": [
       "<Figure size 640x480 with 1 Axes>"
      ]
     },
     "metadata": {},
     "output_type": "display_data"
    },
    {
     "name": "stdout",
     "output_type": "stream",
     "text": [
      "# samples associated with no stroke: 183\n",
      "# samples associated with stroke: 17\n"
     ]
    }
   ],
   "source": [
    "class_occur = data['Riwayat Stroke'].value_counts()\n",
    "class_names = ['No Stroke','Stroke']\n",
    "fig, ax = plt.subplots()\n",
    "ax.pie(class_occur, labels=class_names, autopct='%1.2f%%',\n",
    "        shadow=True, startangle=0, counterclock=False)\n",
    "ax.axis('equal')\n",
    "ax.set_title('Class distribution')\n",
    "plt.show()\n",
    "print(\"# samples associated with no stroke: {}\".format(class_occur[0]))\n",
    "print(\"# samples associated with stroke: {}\".format(class_occur[1]))"
   ]
  },
  {
   "cell_type": "code",
   "execution_count": 103,
   "id": "665a7ea8-5563-4432-b6a8-6072d99ce173",
   "metadata": {},
   "outputs": [],
   "source": [
    "X = data[['Jenis Kelamin', 'Usia', 'Riwayat Hipertensi', \n",
    "        'Riwayat Penyakit Jantung', 'Sudah Menikah', 'Berat Badan', \n",
    "        'Riwayat merokok', 'Detak Jantung', 'Saturasi Oksigen', \n",
    "        'Suhu Tubuh', 'Tekanan Sistolik', 'Tekanan Diastolik']]\n",
    "y = data['Riwayat Stroke']"
   ]
  },
  {
   "cell_type": "code",
   "execution_count": 109,
   "id": "2e45db78-902c-458d-bcc7-d3fbb9938233",
   "metadata": {},
   "outputs": [],
   "source": [
    "X_train, X_test, y_train, y_test = train_test_split(X, y, train_size=0.6, random_state=42)"
   ]
  },
  {
   "cell_type": "code",
   "execution_count": 110,
   "id": "6622ae1c-2fe8-4dda-b7a4-8b47f0f7c8bd",
   "metadata": {},
   "outputs": [],
   "source": [
    "smote = SMOTE()\n",
    "X_resample, y_resample = smote.fit_resample(X_train, y_train)"
   ]
  },
  {
   "cell_type": "code",
   "execution_count": 111,
   "id": "e13377a8-449a-4cf3-b4de-a84641716967",
   "metadata": {},
   "outputs": [
    {
     "data": {
      "image/png": "[encoded data removed]",
      "text/plain": [
       "<Figure size 600x600 with 1 Axes>"
      ]
     },
     "metadata": {},
     "output_type": "display_data"
    }
   ],
   "source": [
    "from collections import Counter\n",
    "\n",
    "distribution = Counter(y_resample)\n",
    "\n",
    "labels = ['No Stroke', 'Stroke']\n",
    "counts = [distribution[0], distribution[1]]\n",
    "\n",
    "plt.figure(figsize=(6, 6))\n",
    "plt.pie(counts, labels=labels, autopct='%1.1f%%', startangle=90, colors=['skyblue', 'lightcoral'])\n",
    "plt.title('Class Distribution After SMOTE')\n",
    "plt.axis('equal')\n",
    "plt.show()\n"
   ]
  },
  {
   "cell_type": "code",
   "execution_count": 112,
   "id": "dea6ce66-4fe4-4d00-b4ab-26d3a35690d7",
   "metadata": {},
   "outputs": [],
   "source": [
    "scaler = StandardScaler()\n",
    "X_train_normalized = scaler.fit_transform(X_resample)\n",
    "X_test_normalized = scaler.transform(X_test)"
   ]
  },
  {
   "cell_type": "code",
   "execution_count": 113,
   "id": "703daf14-0a9e-440c-983d-ef55fc35eca4",
   "metadata": {},
   "outputs": [
    {
     "name": "stdout",
     "output_type": "stream",
     "text": [
      "Accuracy: 0.9500\n",
      "Precision: 1.0000\n",
      "Recall: 0.2000\n",
      "F1 Score: 0.3333\n",
      "\n",
      "Confusion Matrix:\n",
      "[[75  0]\n",
      " [ 4  1]]\n",
      "\n",
      "Classification Report:\n",
      "              precision    recall  f1-score   support\n",
      "\n",
      "           0       0.95      1.00      0.97        75\n",
      "           1       1.00      0.20      0.33         5\n",
      "\n",
      "    accuracy                           0.95        80\n",
      "   macro avg       0.97      0.60      0.65        80\n",
      "weighted avg       0.95      0.95      0.93        80\n",
      "\n"
     ]
    }
   ],
   "source": [
    "log_reg = LogisticRegression(random_state=42, max_iter=1000)\n",
    "\n",
    "log_reg.fit(X_train_normalized, y_resample)\n",
    "\n",
    "y_pred = log_reg.predict(X_test_normalized)\n",
    "\n",
    "accuracy = accuracy_score(y_test, y_pred)\n",
    "precision = precision_score(y_test, y_pred)\n",
    "recall = recall_score(y_test, y_pred)\n",
    "f1 = f1_score(y_test, y_pred)\n",
    "conf_matrix = confusion_matrix(y_test, y_pred)\n",
    "class_report = classification_report(y_test, y_pred)\n",
    "\n",
    "print(f\"Accuracy: {accuracy:.4f}\")\n",
    "print(f\"Precision: {precision:.4f}\")\n",
    "print(f\"Recall: {recall:.4f}\")\n",
    "print(f\"F1 Score: {f1:.4f}\")\n",
    "print(\"\\nConfusion Matrix:\")\n",
    "print(conf_matrix)\n",
    "print(\"\\nClassification Report:\")\n",
    "print(class_report)"
   ]
  },
  {
   "cell_type": "code",
   "execution_count": 114,
   "id": "2bb032de-ff60-4a8e-8153-a02fed4b79f1",
   "metadata": {},
   "outputs": [
    {
     "name": "stdout",
     "output_type": "stream",
     "text": [
      "<class 'pandas.core.frame.DataFrame'>\n",
      "RangeIndex: 200 entries, 0 to 199\n",
      "Data columns (total 14 columns):\n",
      " #   Column                    Non-Null Count  Dtype  \n",
      "---  ------                    --------------  -----  \n",
      " 0   No.                       200 non-null    int64  \n",
      " 1   Jenis Kelamin             200 non-null    uint8  \n",
      " 2   Usia                      200 non-null    int64  \n",
      " 3   Riwayat Hipertensi        200 non-null    uint8  \n",
      " 4   Riwayat Penyakit Jantung  200 non-null    uint8  \n",
      " 5   Sudah Menikah             200 non-null    uint8  \n",
      " 6   Berat Badan               200 non-null    int64  \n",
      " 7   Riwayat Stroke            200 non-null    uint8  \n",
      " 8   Riwayat merokok           200 non-null    uint8  \n",
      " 9   Detak Jantung             200 non-null    int64  \n",
      " 10  Saturasi Oksigen          200 non-null    int64  \n",
      " 11  Suhu Tubuh                200 non-null    float64\n",
      " 12  Tekanan Sistolik          200 non-null    int64  \n",
      " 13  Tekanan Diastolik         200 non-null    int64  \n",
      "dtypes: float64(1), int64(7), uint8(6)\n",
      "memory usage: 13.8 KB\n"
     ]
    }
   ],
   "source": [
    "data.info()"
   ]
  },
  {
   "cell_type": "code",
   "execution_count": 121,
   "id": "237a32cb-f1e5-42ae-b81b-c3662fce71f6",
   "metadata": {},
   "outputs": [
    {
     "name": "stderr",
     "output_type": "stream",
     "text": [
      "/home/rid/miniconda3/envs/ml/lib/python3.13/site-packages/sklearn/utils/validation.py:2739: UserWarning: X does not have valid feature names, but StandardScaler was fitted with feature names\n",
      "  warnings.warn(\n"
     ]
    },
    {
     "data": {
      "text/plain": [
       "array([[9.99002216e-01, 9.97784087e-04]])"
      ]
     },
     "execution_count": 121,
     "metadata": {},
     "output_type": "execute_result"
    }
   ],
   "source": [
    "test = np.array([[1, 70, 1, 1, 1, 50, 1, 98, 98, 36.5, 120, 90]])\n",
    "test_normal = scaler.transform(test)\n",
    "\n",
    "log_reg.predict_proba(test_normal)"
   ]
  },
  {
   "cell_type": "code",
   "execution_count": null,
   "id": "3b481ff4-f12f-44a3-9d80-59aebf5e4907",
   "metadata": {},
   "outputs": [],
   "source": []
  }
 ],
 "metadata": {
  "kernelspec": {
   "display_name": "Python 3 (ipykernel)",
   "language": "python",
   "name": "python3"
  },
  "language_info": {
   "codemirror_mode": {
    "name": "ipython",
    "version": 3
   },
   "file_extension": ".py",
   "mimetype": "text/x-python",
   "name": "python",
   "nbconvert_exporter": "python",
   "pygments_lexer": "ipython3",
   "version": "3.13.1"
  }
 },
 "nbformat": 4,
 "nbformat_minor": 5
}
