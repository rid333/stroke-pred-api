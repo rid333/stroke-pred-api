{
 "cells": [
  {
   "cell_type": "code",
   "execution_count": 41,
   "id": "4b1ffc6f-6a2a-44d7-ba82-e1b302b39575",
   "metadata": {},
   "outputs": [],
   "source": [
    "import numpy as np\n",
    "import pandas as pd\n",
    "from sklearn.preprocessing import LabelEncoder, StandardScaler\n",
    "import matplotlib.pyplot as plt\n",
    "from imblearn.over_sampling import SMOTE\n",
    "from sklearn.model_selection import train_test_split\n",
    "from sklearn.linear_model import LogisticRegression\n",
    "from sklearn.metrics import accuracy_score, log_loss, precision_score, recall_score, f1_score, confusion_matrix, classification_report\n",
    "from xgboost import XGBClassifier\n",
    "from sklearn.metrics import roc_curve, auc, RocCurveDisplay\n"
   ]
  },
  {
   "cell_type": "code",
   "execution_count": 42,
   "id": "1c22b9ae-8e20-4548-8284-6d52963fd99f",
   "metadata": {},
   "outputs": [],
   "source": [
    "data = pd.read_csv('puskesmas.csv')\n",
    "data[['Tekanan Sistolik', 'Tekanan Diastolik']] = data['Tekanan Darah'].str.split('/', expand=True)\n",
    "data['Tekanan Sistolik'] = data['Tekanan Sistolik'].astype(int)\n",
    "data['Tekanan Diastolik'] = data['Tekanan Diastolik'].astype(int)\n",
    "data = data.drop(columns=['Tekanan Darah'])"
   ]
  },
  {
   "cell_type": "code",
   "execution_count": 43,
   "id": "22661285-2866-4947-9e2c-35a6fa6dfd86",
   "metadata": {},
   "outputs": [
    {
     "data": {
      "text/html": [
       "<div>\n",
       "<style scoped>\n",
       "    .dataframe tbody tr th:only-of-type {\n",
       "        vertical-align: middle;\n",
       "    }\n",
       "\n",
       "    .dataframe tbody tr th {\n",
       "        vertical-align: top;\n",
       "    }\n",
       "\n",
       "    .dataframe thead th {\n",
       "        text-align: right;\n",
       "    }\n",
       "</style>\n",
       "<table border=\"1\" class=\"dataframe\">\n",
       "  <thead>\n",
       "    <tr style=\"text-align: right;\">\n",
       "      <th></th>\n",
       "      <th>No.</th>\n",
       "      <th>Jenis Kelamin</th>\n",
       "      <th>Usia</th>\n",
       "      <th>Riwayat Hipertensi</th>\n",
       "      <th>Riwayat Penyakit Jantung</th>\n",
       "      <th>Sudah Menikah</th>\n",
       "      <th>Berat Badan</th>\n",
       "      <th>Riwayat Stroke</th>\n",
       "      <th>Riwayat merokok</th>\n",
       "      <th>Detak Jantung</th>\n",
       "      <th>Saturasi Oksigen</th>\n",
       "      <th>Suhu Tubuh</th>\n",
       "      <th>Tekanan Sistolik</th>\n",
       "      <th>Tekanan Diastolik</th>\n",
       "    </tr>\n",
       "  </thead>\n",
       "  <tbody>\n",
       "    <tr>\n",
       "      <th>0</th>\n",
       "      <td>1</td>\n",
       "      <td>Perempuan</td>\n",
       "      <td>70</td>\n",
       "      <td>ya</td>\n",
       "      <td>tidak</td>\n",
       "      <td>ya</td>\n",
       "      <td>52</td>\n",
       "      <td>ya</td>\n",
       "      <td>tidak</td>\n",
       "      <td>82</td>\n",
       "      <td>97</td>\n",
       "      <td>36.0</td>\n",
       "      <td>209</td>\n",
       "      <td>118</td>\n",
       "    </tr>\n",
       "    <tr>\n",
       "      <th>1</th>\n",
       "      <td>2</td>\n",
       "      <td>Perempuan</td>\n",
       "      <td>82</td>\n",
       "      <td>ya</td>\n",
       "      <td>tidak</td>\n",
       "      <td>ya</td>\n",
       "      <td>48</td>\n",
       "      <td>ya</td>\n",
       "      <td>tidak</td>\n",
       "      <td>75</td>\n",
       "      <td>95</td>\n",
       "      <td>36.5</td>\n",
       "      <td>202</td>\n",
       "      <td>112</td>\n",
       "    </tr>\n",
       "    <tr>\n",
       "      <th>2</th>\n",
       "      <td>3</td>\n",
       "      <td>Perempuan</td>\n",
       "      <td>51</td>\n",
       "      <td>ya</td>\n",
       "      <td>tidak</td>\n",
       "      <td>ya</td>\n",
       "      <td>52</td>\n",
       "      <td>tidak</td>\n",
       "      <td>tidak</td>\n",
       "      <td>103</td>\n",
       "      <td>98</td>\n",
       "      <td>36.3</td>\n",
       "      <td>144</td>\n",
       "      <td>90</td>\n",
       "    </tr>\n",
       "    <tr>\n",
       "      <th>3</th>\n",
       "      <td>4</td>\n",
       "      <td>Perempuan</td>\n",
       "      <td>56</td>\n",
       "      <td>ya</td>\n",
       "      <td>tidak</td>\n",
       "      <td>ya</td>\n",
       "      <td>52</td>\n",
       "      <td>tidak</td>\n",
       "      <td>tidak</td>\n",
       "      <td>65</td>\n",
       "      <td>98</td>\n",
       "      <td>36.3</td>\n",
       "      <td>157</td>\n",
       "      <td>98</td>\n",
       "    </tr>\n",
       "    <tr>\n",
       "      <th>4</th>\n",
       "      <td>5</td>\n",
       "      <td>Perempuan</td>\n",
       "      <td>61</td>\n",
       "      <td>ya</td>\n",
       "      <td>tidak</td>\n",
       "      <td>ya</td>\n",
       "      <td>48</td>\n",
       "      <td>tidak</td>\n",
       "      <td>tidak</td>\n",
       "      <td>110</td>\n",
       "      <td>97</td>\n",
       "      <td>36.2</td>\n",
       "      <td>162</td>\n",
       "      <td>79</td>\n",
       "    </tr>\n",
       "  </tbody>\n",
       "</table>\n",
       "</div>"
      ],
      "text/plain": [
       "   No. Jenis Kelamin  Usia Riwayat Hipertensi Riwayat Penyakit Jantung  \\\n",
       "0    1     Perempuan    70                 ya                    tidak   \n",
       "1    2     Perempuan    82                 ya                    tidak   \n",
       "2    3     Perempuan    51                 ya                    tidak   \n",
       "3    4     Perempuan    56                 ya                    tidak   \n",
       "4    5     Perempuan    61                 ya                    tidak   \n",
       "\n",
       "  Sudah Menikah  Berat Badan Riwayat Stroke Riwayat merokok  Detak Jantung  \\\n",
       "0            ya           52             ya           tidak             82   \n",
       "1            ya           48             ya           tidak             75   \n",
       "2            ya           52          tidak           tidak            103   \n",
       "3            ya           52          tidak           tidak             65   \n",
       "4            ya           48          tidak           tidak            110   \n",
       "\n",
       "   Saturasi Oksigen  Suhu Tubuh  Tekanan Sistolik  Tekanan Diastolik  \n",
       "0                97        36.0               209                118  \n",
       "1                95        36.5               202                112  \n",
       "2                98        36.3               144                 90  \n",
       "3                98        36.3               157                 98  \n",
       "4                97        36.2               162                 79  "
      ]
     },
     "execution_count": 43,
     "metadata": {},
     "output_type": "execute_result"
    }
   ],
   "source": [
    "data.head()"
   ]
  },
  {
   "cell_type": "code",
   "execution_count": 44,
   "id": "79832bd8-3df5-4ded-ad8d-497887eeb7d7",
   "metadata": {},
   "outputs": [],
   "source": [
    "kategori_columns = ['Jenis Kelamin', 'Riwayat Hipertensi', 'Riwayat Penyakit Jantung', \n",
    "                    'Sudah Menikah', 'Riwayat Stroke', 'Riwayat merokok']\n",
    "for col in data.columns:\n",
    "    if col not in kategori_columns:\n",
    "        data[col] = pd.to_numeric(data[col], errors='coerce')"
   ]
  },
  {
   "cell_type": "code",
   "execution_count": 45,
   "id": "b436410f-0d88-4ecd-b8b1-a31123f505d5",
   "metadata": {},
   "outputs": [
    {
     "name": "stderr",
     "output_type": "stream",
     "text": [
      "/tmp/ipykernel_6990/2592194176.py:1: FutureWarning: Downcasting behavior in `replace` is deprecated and will be removed in a future version. To retain the old behavior, explicitly call `result.infer_objects(copy=False)`. To opt-in to the future behavior, set `pd.set_option('future.no_silent_downcasting', True)`\n",
      "  data['Jenis Kelamin'] = data['Jenis Kelamin'].replace({'Laki-laki':0,'Perempuan':1}).astype(np.uint8)\n",
      "/tmp/ipykernel_6990/2592194176.py:2: FutureWarning: Downcasting behavior in `replace` is deprecated and will be removed in a future version. To retain the old behavior, explicitly call `result.infer_objects(copy=False)`. To opt-in to the future behavior, set `pd.set_option('future.no_silent_downcasting', True)`\n",
      "  data['Riwayat Hipertensi'] = data['Riwayat Hipertensi'].replace({'tidak':0,'ya':1}).astype(np.uint8)\n",
      "/tmp/ipykernel_6990/2592194176.py:3: FutureWarning: Downcasting behavior in `replace` is deprecated and will be removed in a future version. To retain the old behavior, explicitly call `result.infer_objects(copy=False)`. To opt-in to the future behavior, set `pd.set_option('future.no_silent_downcasting', True)`\n",
      "  data['Riwayat Penyakit Jantung'] = data['Riwayat Penyakit Jantung'].replace({'tidak':0,'ya':1}).astype(np.uint8)\n",
      "/tmp/ipykernel_6990/2592194176.py:4: FutureWarning: Downcasting behavior in `replace` is deprecated and will be removed in a future version. To retain the old behavior, explicitly call `result.infer_objects(copy=False)`. To opt-in to the future behavior, set `pd.set_option('future.no_silent_downcasting', True)`\n",
      "  data['Sudah Menikah'] = data['Sudah Menikah'].replace({'tidak':0,'ya':1}).astype(np.uint8)\n",
      "/tmp/ipykernel_6990/2592194176.py:5: FutureWarning: Downcasting behavior in `replace` is deprecated and will be removed in a future version. To retain the old behavior, explicitly call `result.infer_objects(copy=False)`. To opt-in to the future behavior, set `pd.set_option('future.no_silent_downcasting', True)`\n",
      "  data['Riwayat Stroke'] = data['Riwayat Stroke'].replace({'tidak':0,'ya':1}).astype(np.uint8)\n",
      "/tmp/ipykernel_6990/2592194176.py:6: FutureWarning: Downcasting behavior in `replace` is deprecated and will be removed in a future version. To retain the old behavior, explicitly call `result.infer_objects(copy=False)`. To opt-in to the future behavior, set `pd.set_option('future.no_silent_downcasting', True)`\n",
      "  data['Riwayat merokok'] = data['Riwayat merokok'].replace({'tidak':0,'ya':1}).astype(np.uint8)\n"
     ]
    }
   ],
   "source": [
    "data['Jenis Kelamin'] = data['Jenis Kelamin'].replace({'Laki-laki':0,'Perempuan':1}).astype(np.uint8)\n",
    "data['Riwayat Hipertensi'] = data['Riwayat Hipertensi'].replace({'tidak':0,'ya':1}).astype(np.uint8)\n",
    "data['Riwayat Penyakit Jantung'] = data['Riwayat Penyakit Jantung'].replace({'tidak':0,'ya':1}).astype(np.uint8)\n",
    "data['Sudah Menikah'] = data['Sudah Menikah'].replace({'tidak':0,'ya':1}).astype(np.uint8)\n",
    "data['Riwayat Stroke'] = data['Riwayat Stroke'].replace({'tidak':0,'ya':1}).astype(np.uint8)\n",
    "data['Riwayat merokok'] = data['Riwayat merokok'].replace({'tidak':0,'ya':1}).astype(np.uint8)"
   ]
  },
  {
   "cell_type": "code",
   "execution_count": 46,
   "id": "dd5f6394-90ce-4573-b31c-b9a0155b1143",
   "metadata": {},
   "outputs": [
    {
     "name": "stdout",
     "output_type": "stream",
     "text": [
      "Unique 'Jenis Kelamin': [1 0]\n",
      "Unique 'Riwayat Hipertensi': [1 0]\n",
      "Unique 'Riwayat Penyakit Jantung': [0 1]\n",
      "Unique 'Sudah Menikah': [1 0]\n",
      "Unique 'Reiwayat Stroke': [1 0]\n",
      "Unique 'Reiwayat Merokok': [0 1]\n"
     ]
    }
   ],
   "source": [
    "print(\"Unique 'Jenis Kelamin': {}\".format(data['Jenis Kelamin'].unique()))\n",
    "print(\"Unique 'Riwayat Hipertensi': {}\".format(data['Riwayat Hipertensi'].unique()))\n",
    "print(\"Unique 'Riwayat Penyakit Jantung': {}\".format(data['Riwayat Penyakit Jantung'].unique()))\n",
    "print(\"Unique 'Sudah Menikah': {}\".format(data['Sudah Menikah'].unique()))\n",
    "print(\"Unique 'Reiwayat Stroke': {}\".format(data['Riwayat Stroke'].unique()))\n",
    "print(\"Unique 'Reiwayat Merokok': {}\".format(data['Riwayat merokok'].unique()))"
   ]
  },
  {
   "cell_type": "code",
   "execution_count": 47,
   "id": "c64c56cc-7de3-443d-8596-d495b454935b",
   "metadata": {},
   "outputs": [
    {
     "data": {
      "text/plain": [
       "Riwayat Stroke\n",
       "0    183\n",
       "1     37\n",
       "Name: count, dtype: int64"
      ]
     },
     "execution_count": 47,
     "metadata": {},
     "output_type": "execute_result"
    }
   ],
   "source": [
    "data['Riwayat Stroke'].value_counts()"
   ]
  },
  {
   "cell_type": "code",
   "execution_count": 48,
   "id": "9076835a-a8d0-4b78-9f6a-4b22bc99167a",
   "metadata": {},
   "outputs": [
    {
     "data": {
      "image/png": "[encoded data removed]",
      "text/plain": [
       "<Figure size 640x480 with 1 Axes>"
      ]
     },
     "metadata": {},
     "output_type": "display_data"
    },
    {
     "name": "stdout",
     "output_type": "stream",
     "text": [
      "# samples associated with no stroke: 183\n",
      "# samples associated with stroke: 37\n"
     ]
    }
   ],
   "source": [
    "class_occur = data['Riwayat Stroke'].value_counts()\n",
    "class_names = ['No Stroke','Stroke']\n",
    "fig, ax = plt.subplots()\n",
    "ax.pie(class_occur, labels=class_names, autopct='%1.2f%%',\n",
    "        shadow=True, startangle=0, counterclock=False)\n",
    "ax.axis('equal')\n",
    "ax.set_title('Class distribution')\n",
    "plt.show()\n",
    "print(\"# samples associated with no stroke: {}\".format(class_occur[0]))\n",
    "print(\"# samples associated with stroke: {}\".format(class_occur[1]))"
   ]
  },
  {
   "cell_type": "code",
   "execution_count": 49,
   "id": "eab3c823-cfe7-4b9e-9327-377f748a1243",
   "metadata": {},
   "outputs": [],
   "source": [
    "X = data[['Jenis Kelamin', 'Usia', 'Riwayat Hipertensi', \n",
    "        'Riwayat Penyakit Jantung', 'Sudah Menikah', 'Berat Badan', \n",
    "        'Riwayat merokok', 'Detak Jantung', 'Saturasi Oksigen', \n",
    "        'Suhu Tubuh', 'Tekanan Sistolik', 'Tekanan Diastolik']]\n",
    "y = data['Riwayat Stroke']"
   ]
  },
  {
   "cell_type": "code",
   "execution_count": 50,
   "id": "13222de0-5c68-4a4c-babd-4f5556e74adc",
   "metadata": {},
   "outputs": [],
   "source": [
    "X_train, X_test, y_train, y_test = train_test_split(X, y, train_size=0.7, random_state=42)"
   ]
  },
  {
   "cell_type": "code",
   "execution_count": 51,
   "id": "c291e1a6-1d3f-4f45-b9b4-701cabed9b09",
   "metadata": {},
   "outputs": [],
   "source": [
    "smote = SMOTE()\n",
    "X_resample, y_resample = smote.fit_resample(X_train, y_train)"
   ]
  },
  {
   "cell_type": "code",
   "execution_count": 52,
   "id": "2ad2465a-76e0-465d-bf22-572d90d89c9b",
   "metadata": {},
   "outputs": [
    {
     "data": {
      "image/png": "[encoded data removed]",
      "text/plain": [
       "<Figure size 600x600 with 1 Axes>"
      ]
     },
     "metadata": {},
     "output_type": "display_data"
    }
   ],
   "source": [
    "from collections import Counter\n",
    "\n",
    "distribution = Counter(y_resample)\n",
    "\n",
    "labels = ['No Stroke', 'Stroke']\n",
    "counts = [distribution[0], distribution[1]]\n",
    "\n",
    "plt.figure(figsize=(6, 6))\n",
    "plt.pie(counts, labels=labels, autopct='%1.1f%%', startangle=90, colors=['skyblue', 'lightcoral'])\n",
    "plt.title('Class Distribution After SMOTE')\n",
    "plt.axis('equal')\n",
    "plt.show()\n"
   ]
  },
  {
   "cell_type": "code",
   "execution_count": 53,
   "id": "c0d8ede4-f640-4542-b50f-6acbcbca0b32",
   "metadata": {},
   "outputs": [],
   "source": [
    "scaler = StandardScaler()\n",
    "X_train_normalized = scaler.fit_transform(X_resample)\n",
    "X_test_normalized = scaler.transform(X_test)"
   ]
  },
  {
   "cell_type": "code",
   "execution_count": 54,
   "id": "e1c1b4b0-bb8c-4dd3-8560-972d2a9c0686",
   "metadata": {},
   "outputs": [
    {
     "name": "stdout",
     "output_type": "stream",
     "text": [
      "Accuracy: 0.8485\n",
      "Precision: 0.5385\n",
      "Recall: 0.6364\n",
      "F1 Score: 0.5833\n",
      "\n",
      "Confusion Matrix:\n",
      "[[49  6]\n",
      " [ 4  7]]\n",
      "\n",
      "Classification Report:\n",
      "              precision    recall  f1-score   support\n",
      "\n",
      "           0       0.92      0.89      0.91        55\n",
      "           1       0.54      0.64      0.58        11\n",
      "\n",
      "    accuracy                           0.85        66\n",
      "   macro avg       0.73      0.76      0.75        66\n",
      "weighted avg       0.86      0.85      0.85        66\n",
      "\n"
     ]
    }
   ],
   "source": [
    "log_reg = LogisticRegression(random_state=42, max_iter=1000)\n",
    "\n",
    "log_reg.fit(X_train_normalized, y_resample)\n",
    "\n",
    "y_pred = log_reg.predict(X_test_normalized)\n",
    "\n",
    "accuracy = accuracy_score(y_test, y_pred)\n",
    "precision = precision_score(y_test, y_pred)\n",
    "recall = recall_score(y_test, y_pred)\n",
    "f1 = f1_score(y_test, y_pred)\n",
    "conf_matrix = confusion_matrix(y_test, y_pred)\n",
    "class_report = classification_report(y_test, y_pred)\n",
    "\n",
    "print(f\"Accuracy: {accuracy:.4f}\")\n",
    "print(f\"Precision: {precision:.4f}\")\n",
    "print(f\"Recall: {recall:.4f}\")\n",
    "print(f\"F1 Score: {f1:.4f}\")\n",
    "print(\"\\nConfusion Matrix:\")\n",
    "print(conf_matrix)\n",
    "print(\"\\nClassification Report:\")\n",
    "print(class_report)"
   ]
  },
  {
   "cell_type": "code",
   "execution_count": 55,
   "id": "56d69d35-5e01-426d-ae2c-32857cb5b1a4",
   "metadata": {},
   "outputs": [
    {
     "name": "stderr",
     "output_type": "stream",
     "text": [
      "/home/rid/miniconda3/envs/ml/lib/python3.13/site-packages/sklearn/utils/validation.py:2739: UserWarning: X does not have valid feature names, but StandardScaler was fitted with feature names\n",
      "  warnings.warn(\n"
     ]
    },
    {
     "data": {
      "text/plain": [
       "array([[0.00114649, 0.99885351]])"
      ]
     },
     "execution_count": 55,
     "metadata": {},
     "output_type": "execute_result"
    }
   ],
   "source": [
    "test = np.array([[1, 70, 1, 1, 1, 50, 1, 98, 98, 36.5, 200, 100]])\n",
    "test_normal = scaler.transform(test)\n",
    "\n",
    "log_reg.predict_proba(test_normal)"
   ]
  },
  {
   "cell_type": "code",
   "execution_count": 56,
   "id": "2265ac37-b31d-459f-8c65-620dc079f5f3",
   "metadata": {},
   "outputs": [
    {
     "name": "stdout",
     "output_type": "stream",
     "text": [
      "Optimal threshold (Youden's J): 0.661\n",
      "At this threshold: TPR (sensitivity) = 0.636, FPR = 0.018\n"
     ]
    }
   ],
   "source": [
    "y_proba = log_reg.predict_proba(X_test_normalized)[:, 1]\n",
    "\n",
    "fpr, tpr, thresholds = roc_curve(y_test, y_proba)\n",
    "\n",
    "j_scores = tpr - fpr\n",
    "optimal_idx = np.argmax(j_scores)\n",
    "optimal_threshold = thresholds[optimal_idx]\n",
    "\n",
    "print(f\"Optimal threshold (Youden's J): {optimal_threshold:.3f}\")\n",
    "print(f\"At this threshold: TPR (sensitivity) = {tpr[optimal_idx]:.3f}, FPR = {fpr[optimal_idx]:.3f}\")"
   ]
  },
  {
   "cell_type": "code",
   "execution_count": 57,
   "id": "e63c5269-5bda-4397-b137-e13a12924ff0",
   "metadata": {},
   "outputs": [
    {
     "data": {
      "image/png": "[encoded data removed]",
      "text/plain": [
       "<Figure size 800x600 with 1 Axes>"
      ]
     },
     "metadata": {},
     "output_type": "display_data"
    }
   ],
   "source": [
    "plt.figure(figsize=(8, 6))\n",
    "plt.plot(fpr, tpr, label='ROC curve')\n",
    "plt.scatter(fpr[optimal_idx], tpr[optimal_idx], color='red', label=f'Optimal threshold = {optimal_threshold:.2f}', zorder=10)\n",
    "plt.plot([0, 1], [0, 1], 'k--', lw=1)\n",
    "plt.xlabel('False Positive Rate (FPR)')\n",
    "plt.ylabel('True Positive Rate (TPR)')\n",
    "plt.legend(loc='lower right')\n",
    "plt.show()"
   ]
  },
  {
   "cell_type": "code",
   "execution_count": 58,
   "id": "53f0b131-e36b-4c5a-9b14-301c192554df",
   "metadata": {},
   "outputs": [
    {
     "name": "stdout",
     "output_type": "stream",
     "text": [
      "Confusion Matrix (Smote):\n",
      "[[54  1]\n",
      " [ 4  7]]\n",
      "\n",
      "Classification Report (Smote):\n",
      "              precision    recall  f1-score   support\n",
      "\n",
      "           0       0.93      0.98      0.96        55\n",
      "           1       0.88      0.64      0.74        11\n",
      "\n",
      "    accuracy                           0.92        66\n",
      "   macro avg       0.90      0.81      0.85        66\n",
      "weighted avg       0.92      0.92      0.92        66\n",
      "\n"
     ]
    }
   ],
   "source": [
    "# Smote\n",
    "y_pred_optimal = (y_proba >= optimal_threshold).astype(int)\n",
    "\n",
    "# Confusion matrix\n",
    "print(\"Confusion Matrix (Smote):\")\n",
    "print(confusion_matrix(y_test, y_pred_optimal))\n",
    "\n",
    "# Detailed metrics\n",
    "print(\"\\nClassification Report (Smote):\")\n",
    "print(classification_report(y_test, y_pred_optimal))"
   ]
  },
  {
   "cell_type": "code",
   "execution_count": 59,
   "id": "d17cd8be-9469-409e-a1ed-8971d4e2c673",
   "metadata": {},
   "outputs": [
    {
     "data": {
      "text/plain": [
       "['logistic_regression_model.pkl']"
      ]
     },
     "execution_count": 59,
     "metadata": {},
     "output_type": "execute_result"
    }
   ],
   "source": [
    "import joblib\n",
    "\n",
    "joblib.dump(log_reg, 'logistic_regression_model.pkl')"
   ]
  },
  {
   "cell_type": "code",
   "execution_count": 60,
   "id": "1b146f37-9329-4750-8a33-d80afed3dce8",
   "metadata": {},
   "outputs": [
    {
     "data": {
      "text/plain": [
       "array([[0.00114649, 0.99885351]])"
      ]
     },
     "execution_count": 60,
     "metadata": {},
     "output_type": "execute_result"
    }
   ],
   "source": [
    "log_reg_loaded = joblib.load('logistic_regression_model.pkl')\n",
    "\n",
    "log_reg_loaded.predict_proba(test_normal)"
   ]
  },
  {
   "cell_type": "code",
   "execution_count": 61,
   "id": "cb61ece5-c975-45b5-88f9-7f97da1546c9",
   "metadata": {},
   "outputs": [
    {
     "data": {
      "text/plain": [
       "['scaler.pkl']"
      ]
     },
     "execution_count": 61,
     "metadata": {},
     "output_type": "execute_result"
    }
   ],
   "source": [
    "joblib.dump(scaler, 'scaler.pkl')"
   ]
  },
  {
   "cell_type": "code",
   "execution_count": 62,
   "id": "135de0d7-8847-4323-8949-9a7a65ef79a6",
   "metadata": {},
   "outputs": [
    {
     "data": {
      "text/plain": [
       "<sklearn.metrics._plot.confusion_matrix.ConfusionMatrixDisplay at 0x7f42f96d8830>"
      ]
     },
     "execution_count": 62,
     "metadata": {},
     "output_type": "execute_result"
    },
    {
     "data": {
      "image/png": "[encoded data removed]",
      "text/plain": [
       "<Figure size 640x480 with 2 Axes>"
      ]
     },
     "metadata": {},
     "output_type": "display_data"
    }
   ],
   "source": [
    "from sklearn.metrics import ConfusionMatrixDisplay\n",
    "\n",
    "ConfusionMatrixDisplay.from_predictions(y_test, y_pred_optimal, cmap=\"Blues\")"
   ]
  },
  {
   "cell_type": "code",
   "execution_count": 63,
   "id": "661f8a60-3db0-4b5d-9a5c-8534bb8a9eb3",
   "metadata": {},
   "outputs": [
    {
     "name": "stdout",
     "output_type": "stream",
     "text": [
      "Optimal threshold (Youden's J): 0.661\n",
      "At this threshold: TPR (sensitivity) = 0.636, FPR = 0.018\n",
      "✅ ROC thresholds CSV saved as 'roc_thresholds_logistic_regression.csv'\n"
     ]
    }
   ],
   "source": [
    "import pandas as pd\n",
    "import numpy as np\n",
    "from sklearn.metrics import roc_curve\n",
    "\n",
    "# Assuming these are already defined\n",
    "# y_proba = clf.predict_proba(X_test)[:, 1]\n",
    "# fpr, tpr, thresholds = roc_curve(y_test, y_proba)\n",
    "\n",
    "j_scores = tpr - fpr\n",
    "optimal_idx = np.argmax(j_scores)\n",
    "optimal_threshold = thresholds[optimal_idx]\n",
    "\n",
    "print(f\"Optimal threshold (Youden's J): {optimal_threshold:.3f}\")\n",
    "print(f\"At this threshold: TPR (sensitivity) = {tpr[optimal_idx]:.3f}, FPR = {fpr[optimal_idx]:.3f}\")\n",
    "\n",
    "# Prepare DataFrame\n",
    "df_roc = pd.DataFrame({\n",
    "    'Threshold': thresholds,\n",
    "    'FPR': fpr,\n",
    "    'TPR': tpr,\n",
    "    'J_score': j_scores\n",
    "})\n",
    "\n",
    "# Save to CSV\n",
    "df_roc.to_csv('roc_thresholds_logistic_regression.csv', index=False)\n",
    "print(\"✅ ROC thresholds CSV saved as 'roc_thresholds_logistic_regression.csv'\")\n"
   ]
  },
  {
   "cell_type": "code",
   "execution_count": null,
   "id": "bea8154d-4c0c-4950-b72b-f455045c92f4",
   "metadata": {},
   "outputs": [],
   "source": []
  }
 ],
 "metadata": {
  "kernelspec": {
   "display_name": "Python 3 (ipykernel)",
   "language": "python",
   "name": "python3"
  },
  "language_info": {
   "codemirror_mode": {
    "name": "ipython",
    "version": 3
   },
   "file_extension": ".py",
   "mimetype": "text/x-python",
   "name": "python",
   "nbconvert_exporter": "python",
   "pygments_lexer": "ipython3",
   "version": "3.13.1"
  }
 },
 "nbformat": 4,
 "nbformat_minor": 5
}
